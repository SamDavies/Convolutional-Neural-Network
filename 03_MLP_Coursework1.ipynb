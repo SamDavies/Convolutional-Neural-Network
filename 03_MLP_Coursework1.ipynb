{
 "cells": [
  {
   "cell_type": "markdown",
   "metadata": {},
   "source": [
    "# Coursework #1\n",
    "\n",
    "## Introduction\n",
    "\n",
    "This coursework is concerned with building multi-layer networks to address the MNIST digit classification problem. It builds on the previous labs, in particular [02_MNIST_SLN.ipynb](02_MNIST_SLN.ipynb) in which single layer networks were trained for MNIST digit classification.   The course will involve extending that code to use Sigmoid and Softmax layers, combining these into multi-layer networks, and carrying out a number of MNIST digit classification experiments, to investigate the effect of learning rate, the number of hidden units, and the number of hidden layers.\n",
    "\n",
    "The coursework is divided into 4 tasks:\n",
    "* **Task 1**:   *Implementing a sigmoid layer* - 15 marks.  \n",
    "This task involves extending the `Linear` class in file `mlp/layers.py` to `Sigmoid`, with code for forward prop, backprop computation of the gradient, and weight update.\n",
    "* **Task 2**:  *Implementing a softmax layer* - 15 marks.  \n",
    "This task involves extending the `Linear` class in file `mlp/layers.py` to `Softmax`, with code for forward prop, backprop computation of the gradient, and weight update.\n",
    "* **Task 3**:  *Constructing a multi-layer network* - 40 marks.  \n",
    "This task involves putting together a Sigmoid and a Softmax layer to create a multi-layer network, with one hidden layer (100 units) and one output layer, that is trained to classify MNIST digits.  This task will include reporting classification results, exploring the effect of learning rates, and plotting Hinton Diagrams for the hidden units and output units.\n",
    "* **Task 4**:  *Experiments with different architectures*  - 30 marks.  \n",
    "This task involves further MNIST classification experiments, primarily looking at the effect of using different numbers of hidden layers.\n",
    "The coursework will be marked out of 100, and will contribute 30% of the total mark in the MLP course.\n",
    "\n",
    "## Previous Tutorials\n",
    "\n",
    "Before starting this coursework make sure that you have completed the first three labs:\n",
    "\n",
    "* [00_Introduction.ipynb](00_Introduction.ipynb) - setting up your environment; *Solutions*: [00_Introduction_solution.ipynb](00_Introduction_solution.ipynb)\n",
    "* [01_Linear_Models.ipynb](01_Linear_Models.ipynb) - training single layer networks; *Solutions*: [01_Linear_Models_solution.ipynb](01_Linear_Models_solution.ipynb)\n",
    "* [02_MNIST_SLN.ipynb](02_MNIST_SLN.ipynb) - training a single layer network for MNIST digit classification\n",
    "\n",
    "To ensure that your virtual environment is correct, please see [this note](https://github.com/CSTR-Edinburgh/mlpractical/blob/master/kernel_issue_fix.md) on the GitHub.\n",
    "## Submission\n",
    "**Submission Deadline:  Thursday 29 October, 16:00** \n",
    "\n",
    "Submit the coursework as an ipython notebook file, using the `submit` command in the terminal on a DICE machine. If your file is `03_MLP_Coursework1.ipynb` then you would enter:\n",
    "\n",
    "`submit mlp 1 03_MLP_Coursework1.ipynb` \n",
    "\n",
    "where `mlp 1` indicates this is the first coursework of MLP.\n",
    "\n",
    "After submitting, you should receive an email of acknowledgment from the system confirming that your submission has been received successfully. Keep the email as evidence of your coursework submission.\n",
    "\n",
    "**Please make sure you submit a single `ipynb` file (and nothing else)!**\n",
    "\n",
    "**Submission Deadline:  Thursday 29 October, 16:00** \n",
    "\n"
   ]
  },
  {
   "cell_type": "markdown",
   "metadata": {},
   "source": [
    "## Getting Started\n",
    "Please enter your exam number and the date in the next code cell."
   ]
  },
  {
   "cell_type": "code",
   "execution_count": null,
   "metadata": {
    "collapsed": true
   },
   "outputs": [],
   "source": [
    "#MLP Coursework 1\n",
    "#Exam number: <ENTER EXAM NUMBER>\n",
    "#Date: <ENTER DATE>\n",
    "\n"
   ]
  },
  {
   "cell_type": "markdown",
   "metadata": {},
   "source": [
    "Please run the next code cell, which imports `numpy` and seeds the random number generator.  Please **do not** modify the random number generator seed!"
   ]
  },
  {
   "cell_type": "code",
   "execution_count": 1,
   "metadata": {
    "collapsed": false
   },
   "outputs": [],
   "source": [
    "import numpy\n",
    "\n",
    "#Seed a random number generator running the below cell, but do **not** modify the seed.\n",
    "rng = numpy.random.RandomState([2015,10,10])\n",
    "rng_state = rng.get_state()"
   ]
  },
  {
   "cell_type": "markdown",
   "metadata": {},
   "source": [
    "## Task 1 - Sigmoid Layer (15%)\n",
    "\n",
    "In this task you need to create a class `Sigmoid` which encapsulates a layer of sigmoid units.  You should do this by extending the `mlp.layers.Linear` class (in file `mlp/layers.py`), which implements a a layer of linear units (i.e. weighted sum plus bias).  The `Sigmoid` class extends this by applying the sigmoid transfer function to the weighted sum in the forward propagation, and applying the derivative of the sigmoid in the gradient descent back propagation and computing the gradients with respect to layer's parameters. Do **not** copy the implementation provided in `Linear` class but rather, **reuse** it through inheritance.\n",
    "\n",
    "When you have implemented `Sigmoid` (in the `mlp.layers` module), then please test it by running the below code cell.\n"
   ]
  },
  {
   "cell_type": "code",
   "execution_count": null,
   "metadata": {
    "collapsed": false
   },
   "outputs": [],
   "source": [
    "from mlp.layers import Sigmoid\n",
    "\n",
    "a = numpy.asarray([-20.1, 52.4, 0, 0.05, 0.05, 49])\n",
    "b = numpy.asarray([-20.1, 52.4, 0, 0.05, 0.05, 49, 20, 20])\n",
    "\n",
    "rng.set_state(rng_state)\n",
    "sigm = Sigmoid(idim=a.shape[0], odim=b.shape[0], rng=rng)\n",
    "\n",
    "fp = sigm.fprop(a)\n",
    "deltas, ograds  = sigm.bprop(h=fp, igrads=b)\n",
    "\n",
    "print fp.sum()\n",
    "print deltas.sum()\n",
    "print ograds.sum()\n",
    "%precision 3\n",
    "print fp\n",
    "print deltas\n",
    "print ograds\n"
   ]
  },
  {
   "cell_type": "markdown",
   "metadata": {},
   "source": [
    "***\n",
    "To include the `Sigmoid` code in the notebook please run the below code cell.  (The `%load` notebook command is used to load the source of the `Sigmoid` class from `mlp/layers.py`.)"
   ]
  },
  {
   "cell_type": "code",
   "execution_count": null,
   "metadata": {
    "collapsed": true
   },
   "outputs": [],
   "source": [
    "%load -s Sigmoid mlp/layers.py\n"
   ]
  },
  {
   "cell_type": "markdown",
   "metadata": {},
   "source": [
    "## Task 2 - Softmax (15%)\n",
    "\n",
    "In this task you need to create a class `Softmax` which encapsulates a layer of softmax units.  As in the previous task, you should do this by extending the `mlp.layers.Linear` class (in file `mlp/layers.py`).\n",
    "\n",
    "When you have implemented `Softmax` (in the `mlp.layers` module), then please test it by running the below code cell.\n"
   ]
  },
  {
   "cell_type": "code",
   "execution_count": null,
   "metadata": {
    "collapsed": false
   },
   "outputs": [],
   "source": [
    "from mlp.layers import Softmax\n",
    "\n",
    "a = numpy.asarray([-20.1, 52.4, 0, 0.05, 0.05, 49])\n",
    "b = numpy.asarray([0, 0, 0, 0, 0, 0, 0, 1])\n",
    "\n",
    "rng.set_state(rng_state)\n",
    "softmax = Softmax(idim=a.shape[0], odim=b.shape[0], rng=rng)\n",
    "\n",
    "fp = softmax.fprop(a)\n",
    "deltas, ograds = softmax.bprop_cost(h=None, igrads=fp-b, cost=None)\n",
    "\n",
    "print fp.sum()\n",
    "print deltas.sum()\n",
    "print ograds.sum()\n",
    "%precision 3\n",
    "print fp\n",
    "print deltas\n",
    "print ograds\n"
   ]
  },
  {
   "cell_type": "markdown",
   "metadata": {},
   "source": [
    "***\n",
    "To include the `Softmax` code in the notebook please run the below code cell.  (The notebook `%load` command is used to load the source of the `Softmax` class from `mlp/layers.py`.)"
   ]
  },
  {
   "cell_type": "code",
   "execution_count": null,
   "metadata": {
    "collapsed": true
   },
   "outputs": [],
   "source": [
    "%load -s Softmax mlp/layers.py"
   ]
  },
  {
   "cell_type": "markdown",
   "metadata": {},
   "source": [
    "## Task 3 - Multi-layer network for MNIST classification (40%)\n",
    "\n",
    "**(a)** (20%)  Building on the single layer linear network for MNIST classification used in lab [02_MNIST_SLN.ipynb](02_MNIST_SLN.ipynb), and using the `Sigmoid` and `Softmax` classes that you implemented in tasks 1 and 2, construct and learn a model that classifies MNIST images and:\n",
    "   * Has one hidden layer with a sigmoid transfer function and 100 units\n",
    "   * Uses a softmax output layer to discriminate between the 10 digit classes (use the `mlp.costs.CECost()` cost)\n",
    "\n",
    "Your code should print the final values of the error function and the classification accuracy for train, validation, and test sets (please keep also the log information printed by default by the optimiser). Limit the number of training epochs to 30. You can, of course, split your code across as many cells as you think is necessary."
   ]
  },
  {
   "cell_type": "code",
   "execution_count": 14,
   "metadata": {
    "collapsed": false
   },
   "outputs": [
    {
     "name": "stderr",
     "output_type": "stream",
     "text": [
      "WARNING:root:Initialising data providers...\n",
      "WARNING:root:Training started...\n",
      "INFO:mlp.optimisers:Epoch 0: Training cost (ce) for random model is 2.327. Accuracy is 10.82%\n",
      "INFO:mlp.optimisers:Epoch 0: Validation cost (ce) for random model is 2.324. Accuracy is 11.11%\n",
      "INFO:mlp.optimisers:Epoch 1: Training cost (ce) is 2.202. Accuracy is 38.54%\n",
      "INFO:mlp.optimisers:Epoch 1: Validation cost (ce) is 2.089. Accuracy is 58.28%\n",
      "INFO:mlp.optimisers:Epoch 1: Took 19 seconds. Training speed 3115 pps. Validation speed 4055 pps.\n",
      "INFO:mlp.optimisers:Epoch 2: Training cost (ce) is 1.956. Accuracy is 63.92%\n",
      "INFO:mlp.optimisers:Epoch 2: Validation cost (ce) is 1.789. Accuracy is 66.86%\n",
      "INFO:mlp.optimisers:Epoch 2: Took 19 seconds. Training speed 3038 pps. Validation speed 4009 pps.\n",
      "INFO:mlp.optimisers:Epoch 3: Training cost (ce) is 1.629. Accuracy is 69.00%\n",
      "INFO:mlp.optimisers:Epoch 3: Validation cost (ce) is 1.439. Accuracy is 74.34%\n",
      "INFO:mlp.optimisers:Epoch 3: Took 21 seconds. Training speed 2755 pps. Validation speed 4117 pps.\n",
      "INFO:mlp.optimisers:Epoch 4: Training cost (ce) is 1.316. Accuracy is 73.58%\n",
      "INFO:mlp.optimisers:Epoch 4: Validation cost (ce) is 1.156. Accuracy is 77.85%\n",
      "INFO:mlp.optimisers:Epoch 4: Took 18 seconds. Training speed 3239 pps. Validation speed 4283 pps.\n",
      "INFO:mlp.optimisers:Epoch 5: Training cost (ce) is 1.084. Accuracy is 77.31%\n",
      "INFO:mlp.optimisers:Epoch 5: Validation cost (ce) is 0.959. Accuracy is 81.54%\n",
      "INFO:mlp.optimisers:Epoch 5: Took 18 seconds. Training speed 3161 pps. Validation speed 4281 pps.\n",
      "INFO:mlp.optimisers:Epoch 6: Training cost (ce) is 0.924. Accuracy is 80.16%\n",
      "INFO:mlp.optimisers:Epoch 6: Validation cost (ce) is 0.823. Accuracy is 83.82%\n",
      "INFO:mlp.optimisers:Epoch 6: Took 18 seconds. Training speed 3237 pps. Validation speed 4287 pps.\n",
      "INFO:mlp.optimisers:Epoch 7: Training cost (ce) is 0.812. Accuracy is 82.06%\n",
      "INFO:mlp.optimisers:Epoch 7: Validation cost (ce) is 0.726. Accuracy is 84.87%\n",
      "INFO:mlp.optimisers:Epoch 7: Took 19 seconds. Training speed 3040 pps. Validation speed 3932 pps.\n",
      "INFO:mlp.optimisers:Epoch 8: Training cost (ce) is 0.731. Accuracy is 83.47%\n",
      "INFO:mlp.optimisers:Epoch 8: Validation cost (ce) is 0.655. Accuracy is 86.03%\n",
      "INFO:mlp.optimisers:Epoch 8: Took 19 seconds. Training speed 3089 pps. Validation speed 3695 pps.\n",
      "INFO:mlp.optimisers:Epoch 9: Training cost (ce) is 0.669. Accuracy is 84.51%\n",
      "INFO:mlp.optimisers:Epoch 9: Validation cost (ce) is 0.601. Accuracy is 86.86%\n",
      "INFO:mlp.optimisers:Epoch 9: Took 18 seconds. Training speed 3116 pps. Validation speed 4407 pps.\n",
      "INFO:mlp.optimisers:Epoch 10: Training cost (ce) is 0.621. Accuracy is 85.23%\n",
      "INFO:mlp.optimisers:Epoch 10: Validation cost (ce) is 0.558. Accuracy is 87.47%\n",
      "INFO:mlp.optimisers:Epoch 10: Took 19 seconds. Training speed 3122 pps. Validation speed 3984 pps.\n",
      "INFO:mlp.optimisers:Epoch 11: Training cost (ce) is 0.583. Accuracy is 85.92%\n",
      "INFO:mlp.optimisers:Epoch 11: Validation cost (ce) is 0.524. Accuracy is 88.05%\n",
      "INFO:mlp.optimisers:Epoch 11: Took 19 seconds. Training speed 2950 pps. Validation speed 4173 pps.\n",
      "INFO:mlp.optimisers:Epoch 12: Training cost (ce) is 0.551. Accuracy is 86.47%\n",
      "INFO:mlp.optimisers:Epoch 12: Validation cost (ce) is 0.496. Accuracy is 88.52%\n",
      "INFO:mlp.optimisers:Epoch 12: Took 20 seconds. Training speed 2898 pps. Validation speed 4201 pps.\n",
      "INFO:mlp.optimisers:Epoch 13: Training cost (ce) is 0.525. Accuracy is 86.92%\n",
      "INFO:mlp.optimisers:Epoch 13: Validation cost (ce) is 0.473. Accuracy is 88.83%\n",
      "INFO:mlp.optimisers:Epoch 13: Took 18 seconds. Training speed 3210 pps. Validation speed 4212 pps.\n",
      "INFO:mlp.optimisers:Epoch 14: Training cost (ce) is 0.503. Accuracy is 87.34%\n",
      "INFO:mlp.optimisers:Epoch 14: Validation cost (ce) is 0.454. Accuracy is 89.12%\n",
      "INFO:mlp.optimisers:Epoch 14: Took 20 seconds. Training speed 2939 pps. Validation speed 3844 pps.\n",
      "INFO:mlp.optimisers:Epoch 15: Training cost (ce) is 0.484. Accuracy is 87.62%\n",
      "INFO:mlp.optimisers:Epoch 15: Validation cost (ce) is 0.437. Accuracy is 89.45%\n",
      "INFO:mlp.optimisers:Epoch 15: Took 18 seconds. Training speed 3107 pps. Validation speed 4392 pps.\n",
      "INFO:mlp.optimisers:Epoch 16: Training cost (ce) is 0.468. Accuracy is 87.94%\n",
      "INFO:mlp.optimisers:Epoch 16: Validation cost (ce) is 0.422. Accuracy is 89.54%\n",
      "INFO:mlp.optimisers:Epoch 16: Took 19 seconds. Training speed 3061 pps. Validation speed 4465 pps.\n",
      "INFO:mlp.optimisers:Epoch 17: Training cost (ce) is 0.453. Accuracy is 88.22%\n",
      "INFO:mlp.optimisers:Epoch 17: Validation cost (ce) is 0.410. Accuracy is 89.77%\n",
      "INFO:mlp.optimisers:Epoch 17: Took 18 seconds. Training speed 3270 pps. Validation speed 4114 pps.\n",
      "INFO:mlp.optimisers:Epoch 18: Training cost (ce) is 0.441. Accuracy is 88.39%\n",
      "INFO:mlp.optimisers:Epoch 18: Validation cost (ce) is 0.399. Accuracy is 90.03%\n",
      "INFO:mlp.optimisers:Epoch 18: Took 19 seconds. Training speed 3098 pps. Validation speed 4036 pps.\n",
      "INFO:mlp.optimisers:Epoch 19: Training cost (ce) is 0.430. Accuracy is 88.63%\n",
      "INFO:mlp.optimisers:Epoch 19: Validation cost (ce) is 0.389. Accuracy is 90.13%\n",
      "INFO:mlp.optimisers:Epoch 19: Took 19 seconds. Training speed 2983 pps. Validation speed 4019 pps.\n",
      "INFO:mlp.optimisers:Epoch 20: Training cost (ce) is 0.420. Accuracy is 88.81%\n",
      "INFO:mlp.optimisers:Epoch 20: Validation cost (ce) is 0.380. Accuracy is 90.19%\n",
      "INFO:mlp.optimisers:Epoch 20: Took 19 seconds. Training speed 3098 pps. Validation speed 4224 pps.\n",
      "INFO:mlp.optimisers:Epoch 21: Training cost (ce) is 0.411. Accuracy is 89.00%\n",
      "INFO:mlp.optimisers:Epoch 21: Validation cost (ce) is 0.373. Accuracy is 90.19%\n",
      "INFO:mlp.optimisers:Epoch 21: Took 19 seconds. Training speed 3108 pps. Validation speed 4097 pps.\n",
      "INFO:mlp.optimisers:Epoch 22: Training cost (ce) is 0.403. Accuracy is 89.13%\n",
      "INFO:mlp.optimisers:Epoch 22: Validation cost (ce) is 0.366. Accuracy is 90.35%\n",
      "INFO:mlp.optimisers:Epoch 22: Took 18 seconds. Training speed 3264 pps. Validation speed 4351 pps.\n",
      "INFO:mlp.optimisers:Epoch 23: Training cost (ce) is 0.396. Accuracy is 89.31%\n",
      "INFO:mlp.optimisers:Epoch 23: Validation cost (ce) is 0.359. Accuracy is 90.43%\n",
      "INFO:mlp.optimisers:Epoch 23: Took 19 seconds. Training speed 3022 pps. Validation speed 4052 pps.\n",
      "INFO:mlp.optimisers:Epoch 24: Training cost (ce) is 0.389. Accuracy is 89.44%\n",
      "INFO:mlp.optimisers:Epoch 24: Validation cost (ce) is 0.353. Accuracy is 90.55%\n",
      "INFO:mlp.optimisers:Epoch 24: Took 18 seconds. Training speed 3207 pps. Validation speed 4211 pps.\n",
      "INFO:mlp.optimisers:Epoch 25: Training cost (ce) is 0.383. Accuracy is 89.57%\n",
      "INFO:mlp.optimisers:Epoch 25: Validation cost (ce) is 0.348. Accuracy is 90.59%\n",
      "INFO:mlp.optimisers:Epoch 25: Took 18 seconds. Training speed 3182 pps. Validation speed 4260 pps.\n",
      "INFO:mlp.optimisers:Epoch 26: Training cost (ce) is 0.377. Accuracy is 89.67%\n",
      "INFO:mlp.optimisers:Epoch 26: Validation cost (ce) is 0.343. Accuracy is 90.66%\n",
      "INFO:mlp.optimisers:Epoch 26: Took 18 seconds. Training speed 3233 pps. Validation speed 4304 pps.\n",
      "INFO:mlp.optimisers:Epoch 27: Training cost (ce) is 0.372. Accuracy is 89.76%\n",
      "INFO:mlp.optimisers:Epoch 27: Validation cost (ce) is 0.339. Accuracy is 90.72%\n",
      "INFO:mlp.optimisers:Epoch 27: Took 18 seconds. Training speed 3226 pps. Validation speed 4388 pps.\n",
      "INFO:mlp.optimisers:Epoch 28: Training cost (ce) is 0.367. Accuracy is 89.89%\n",
      "INFO:mlp.optimisers:Epoch 28: Validation cost (ce) is 0.334. Accuracy is 90.74%\n",
      "INFO:mlp.optimisers:Epoch 28: Took 18 seconds. Training speed 3285 pps. Validation speed 4315 pps.\n",
      "INFO:mlp.optimisers:Epoch 29: Training cost (ce) is 0.363. Accuracy is 89.96%\n",
      "INFO:mlp.optimisers:Epoch 29: Validation cost (ce) is 0.331. Accuracy is 90.87%\n",
      "INFO:mlp.optimisers:Epoch 29: Took 18 seconds. Training speed 3154 pps. Validation speed 4248 pps.\n",
      "INFO:mlp.optimisers:Epoch 30: Training cost (ce) is 0.358. Accuracy is 90.01%\n",
      "INFO:mlp.optimisers:Epoch 30: Validation cost (ce) is 0.327. Accuracy is 90.86%\n",
      "INFO:mlp.optimisers:Epoch 30: Took 18 seconds. Training speed 3170 pps. Validation speed 4146 pps.\n",
      "WARNING:root:Testing the model on test set:\n",
      "WARNING:root:MNIST test set accuracy is 90.65 % (cost is 0.338)\n"
     ]
    }
   ],
   "source": [
    "# include here the complete code that constructs the model, performs training,\n",
    "# and prints the error and accuracy for train/valid/testimport logging\n",
    "import logging\n",
    "\n",
    "from mlp.costs import MSECost, CECost  # import the cost we want to use for optimisation\n",
    "from mlp.dataset import MNISTDataProvider  # import data provider\n",
    "from mlp.layers import MLP, Sigmoid, Softmax  # import required layer types\n",
    "from mlp.optimisers import SGDOptimiser  # import the optimiser\n",
    "from mlp.schedulers import LearningRateFixed\n",
    "\n",
    "logger = logging.getLogger()\n",
    "logger.setLevel(logging.INFO)\n",
    "\n",
    "# define the model structure\n",
    "cost = CECost()\n",
    "model = MLP(cost=cost)\n",
    "model.add_layer(Sigmoid(idim=784, odim=100, rng=rng))\n",
    "model.add_layer(Softmax(idim=100, odim=10, rng=rng))\n",
    "# one can stack more layers here\n",
    "\n",
    "# define the optimiser, here stochasitc gradient descent\n",
    "# with fixed learning rate and max_epochs as stopping criterion\n",
    "lr_scheduler = LearningRateFixed(learning_rate=0.01, max_epochs=30)\n",
    "optimiser = SGDOptimiser(lr_scheduler=lr_scheduler)\n",
    "\n",
    "logger.warning('Initialising data providers...')\n",
    "train_dp = MNISTDataProvider(dset='train', batch_size=100, max_num_batches=-10, randomize=True)\n",
    "valid_dp = MNISTDataProvider(dset='valid', batch_size=100, max_num_batches=-10, randomize=False)\n",
    "\n",
    "logger.warning('Training started...')\n",
    "optimiser.train(model, train_dp, valid_dp)\n",
    "\n",
    "logger.warning('Testing the model on test set:')\n",
    "test_dp = MNISTDataProvider(dset='eval', batch_size=100, max_num_batches=-10, randomize=False)\n",
    "cost, accuracy = optimiser.validate(model, test_dp)\n",
    "logger.warning('MNIST test set accuracy is %.2f %% (cost is %.3f)' % (accuracy * 100., cost))\n"
   ]
  },
  {
   "cell_type": "markdown",
   "metadata": {},
   "source": [
    "**(b)** (10%) Investigate the impact of different learning rates $\\eta \\in \\{0.5, 0.2, 0.1, 0.05, 0.01, 0.005\\}$ on the convergence of the network training as well as the final accuracy:\n",
    "   * Plot (on a single graph) the error rate curves for each learning rate as a function of training epochs for training set\n",
    "   * Plot (on another single graph) the error rate curves as a function of training epochs for validation set\n",
    "   * Include a table of the corresponding error rates for test set\n",
    "\n",
    "The notebook command `%matplotlib inline` ensures that your graphs will be added to the notebook, rather than opened as additional windows."
   ]
  },
  {
   "cell_type": "code",
   "execution_count": null,
   "metadata": {
    "collapsed": false
   },
   "outputs": [
    {
     "name": "stderr",
     "output_type": "stream",
     "text": [
      "WARNING:root:Initialising data providers...\n",
      "WARNING:root:Training started...\n"
     ]
    }
   ],
   "source": [
    "%matplotlib inline\n",
    "import logging\n",
    "import matplotlib.pyplot as plt\n",
    "\n",
    "from mlp.costs import MSECost, CECost  # import the cost we want to use for optimisation\n",
    "from mlp.dataset import MNISTDataProvider  # import data provider\n",
    "from mlp.layers import MLP, Sigmoid, Softmax  # import required layer types\n",
    "from mlp.optimisers import SGDOptimiser  # import the optimiser\n",
    "from mlp.schedulers import LearningRateFixed\n",
    "\n",
    "logger = logging.getLogger()\n",
    "logger.setLevel(logging.WARNING)\n",
    "\n",
    "learning_rates = [0.5, 0.2, 0.1, 0.05, 0.01, 0.005]\n",
    "\n",
    "for i, learning_rate in enumerate(learning_rates):\n",
    "    # define the model structure\n",
    "    cost = CECost()\n",
    "    model = MLP(cost=cost)\n",
    "    model.add_layer(Sigmoid(idim=784, odim=100, rng=rng))\n",
    "    model.add_layer(Softmax(idim=100, odim=10, rng=rng))\n",
    "    # one can stack more layers here\n",
    "    # define the optimiser, here stochasitc gradient descent\n",
    "    # with fixed learning rate and max_epochs as stopping criterion\n",
    "    lr_scheduler = LearningRateFixed(learning_rate=learning_rate, max_epochs=3)\n",
    "    optimiser = SGDOptimiser(lr_scheduler=lr_scheduler)\n",
    "\n",
    "    logger.warning('Initialising data providers...')\n",
    "    train_dp = MNISTDataProvider(dset='train', batch_size=100, max_num_batches=-10, randomize=True)\n",
    "    valid_dp = MNISTDataProvider(dset='valid', batch_size=100, max_num_batches=-10, randomize=False)\n",
    "\n",
    "    logger.warning('Training started...')\n",
    "    train_stats, valid_stats = optimiser.train(model, train_dp, valid_dp)\n",
    "\n",
    "    logger.warning('Testing the model on test set:')\n",
    "    test_dp = MNISTDataProvider(dset='eval', batch_size=100, max_num_batches=-10, randomize=False)\n",
    "    cost, accuracy = optimiser.validate(model, test_dp)\n",
    "    logger.warning('MNIST test set accuracy is %.2f %% (cost is %.3f)' % (accuracy * 100., cost))\n",
    "    \n",
    "    plt.subplot(2, 1, 1)\n",
    "    train_errors = [train_stat[0] for train_stat in train_stats]\n",
    "    plt.plot(train_errors, label='Eta %s' % (str(i)))\n",
    "    \n",
    "    plt.subplot(2, 1, 2)\n",
    "    valid_errors = [valid_stat[0] for valid_stat in valid_stats]\n",
    "    plt.plot(valid_errors, label='Eta %s' % (str(i)))\n",
    "\n",
    "plt.subplot(2, 1, 1)\n",
    "plt.xlabel('epoch')\n",
    "plt.ylabel('training error')  \n",
    "plt.subplot(2, 1, 2)\n",
    "plt.xlabel('epoch')\n",
    "plt.ylabel('validation error')\n",
    "plt.legend()\n",
    "plt.grid()\n",
    "plt.show()"
   ]
  },
  {
   "cell_type": "markdown",
   "metadata": {},
   "source": [
    "**(c)** (10%) Plot the following graphs:\n",
    "  * Display the 784-element weight vector of each of the 100 hidden units as 10x10 grid plot of 28x28 images, in order to visualise what features of the input they are encoding.  To do this, take the weight vector of each hidden unit, reshape to 28x28, and plot using the `imshow` function).\n",
    "  * Plot a Hinton Diagram of the output layer weight matrix for digits 0 and 1"
   ]
  },
  {
   "cell_type": "code",
   "execution_count": 11,
   "metadata": {
    "collapsed": true
   },
   "outputs": [],
   "source": [
    "%matplotlib inline"
   ]
  },
  {
   "cell_type": "markdown",
   "metadata": {
    "collapsed": true
   },
   "source": [
    "## Task 4 - Experiments with 1-5 hidden layers (30%)\n",
    "\n",
    "In this task use the learning rate which resulted in the best accuracy in your experiments in Task 3 (b).  Perform the following experiments:\n",
    "\n",
    "  * Train a similar model to Task 3, with one hidden layer, but with 800 hidden units. \n",
    "  * Train 4 additional models with 2, 3, 4 and 5 hidden layers.  Set the number of hidden units for each model, such that all the models have similar number of trainable weights ($\\pm$2%).   For simplicity, for a given model, keep the number of units in each hidden layer the same.\n",
    "  * Plot value of the error function for training and validation sets as a function of training epochs for each model\n",
    "  * Plot the test set classification accuracy as a function of the number of hidden layers\n"
   ]
  },
  {
   "cell_type": "code",
   "execution_count": null,
   "metadata": {
    "collapsed": true
   },
   "outputs": [],
   "source": []
  },
  {
   "cell_type": "markdown",
   "metadata": {
    "collapsed": true
   },
   "source": [
    "This is the end of coursework 1.\n",
    "\n",
    "Please remember to save your notebook, and submit your notebook following the instructions at the top.  Please make sure that you have executed all the code cells when you submit the notebook.\n"
   ]
  },
  {
   "cell_type": "code",
   "execution_count": null,
   "metadata": {
    "collapsed": true
   },
   "outputs": [],
   "source": []
  }
 ],
 "metadata": {
  "kernelspec": {
   "display_name": "Python 2",
   "language": "python",
   "name": "python2"
  },
  "language_info": {
   "codemirror_mode": {
    "name": "ipython",
    "version": 2
   },
   "file_extension": ".py",
   "mimetype": "text/x-python",
   "name": "python",
   "nbconvert_exporter": "python",
   "pygments_lexer": "ipython2",
   "version": "2.7.8"
  }
 },
 "nbformat": 4,
 "nbformat_minor": 0
}
